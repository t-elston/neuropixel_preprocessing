{
 "cells": [
  {
   "cell_type": "code",
   "execution_count": 1,
   "metadata": {},
   "outputs": [
    {
     "data": {
      "text/plain": [
       "<module 'neural_preprocessing_modules' from 'c:\\\\Users\\\\Thomas Elston\\\\Documents\\\\PYTHON\\\\self_control\\\\preprocessing_scripts\\\\Neural\\\\neural_preprocessing_modules.py'>"
      ]
     },
     "execution_count": 1,
     "metadata": {},
     "output_type": "execute_result"
    }
   ],
   "source": [
    "import neuropixel_preprocessing_module as npm\n",
    "from pathlib import Path"
   ]
  },
  {
   "cell_type": "code",
   "execution_count": 2,
   "metadata": {},
   "outputs": [],
   "source": [
    "# specify the relevant .bin files for this recording - the corresponding .meta files must be in the same folder!\n",
    "raw_files = ['D:\\D20231121_Rec01_g0\\D20231121_Rec01_g0_imec0\\D20231121_Rec01_g0_t0.imec0.lf.bin',\n",
    "             'D:\\D20231121_Rec01_g0\\D20231121_Rec01_g0_imec1\\D20231121_Rec01_g0_t0.imec1.lf.bin',\n",
    "             'D:\\D20231121_Rec01_g0\\D20231121_Rec01_g0_t0.nidq.bin']\n",
    "\n",
    "# specify the nidaq file for event code extraction\n",
    "nidq_file = 'D:\\D20231121_Rec01_g0\\D20231121_Rec01_g0_t0.nidq.bin'\n",
    "\n",
    "# get the directories containing each of the above files\n",
    "raw_dirs = [str(Path(file).parent) for file in raw_files]\n",
    "\n",
    "# what kind of data is in each folder\n",
    "data_stream_info = ['probe0', 'probe1', 'nidaq']\n",
    "\n",
    "# which of these streams do we want to use as the \"master clock\" to map data into?\n",
    "reference_stream = 0"
   ]
  },
  {
   "cell_type": "code",
   "execution_count": 3,
   "metadata": {},
   "outputs": [
    {
     "name": "stdout",
     "output_type": "stream",
     "text": [
      "Extracting sync edges and 8bit event words...\n",
      "\n",
      "n_channels: 385, n_file_samples: 11077308\n",
      "n_channels: 385, n_file_samples: 11077421\n",
      "n_channels: 9, n_file_samples: 46937624\n",
      "n_channels: 9, n_file_samples: 46937624\n",
      "\n",
      "Sync edge times and event codes saved in original directory.\n"
     ]
    }
   ],
   "source": [
    "# extract the sync edges and event codes - saves results into same directory as raw_files\n",
    "npm.extract_sync_edges_and_events(raw_files, nidq_file)"
   ]
  },
  {
   "cell_type": "code",
   "execution_count": 4,
   "metadata": {},
   "outputs": [
    {
     "name": "stdout",
     "output_type": "stream",
     "text": [
      "Mapping spikes and task events to a common timeline.\n",
      "\n",
      "probe0 set as master timeline.\n",
      "aligning: D:\\D20231121_Rec01_g0\\D20231121_Rec01_g0_imec0\n",
      "aligning: D:\\D20231121_Rec01_g0\\D20231121_Rec01_g0_imec1\n",
      "aligning: D:\\D20231121_Rec01_g0\n",
      "\n",
      "Aligned spikes and event codes saved in their original directories.\n"
     ]
    }
   ],
   "source": [
    "npm.align_data_streams(raw_dirs, data_stream_info, reference_stream)"
   ]
  },
  {
   "cell_type": "code",
   "execution_count": null,
   "metadata": {},
   "outputs": [],
   "source": []
  }
 ],
 "metadata": {
  "kernelspec": {
   "display_name": "base",
   "language": "python",
   "name": "python3"
  },
  "language_info": {
   "codemirror_mode": {
    "name": "ipython",
    "version": 3
   },
   "file_extension": ".py",
   "mimetype": "text/x-python",
   "name": "python",
   "nbconvert_exporter": "python",
   "pygments_lexer": "ipython3",
   "version": "3.11.5"
  }
 },
 "nbformat": 4,
 "nbformat_minor": 2
}
